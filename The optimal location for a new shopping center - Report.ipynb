{
 "cells": [
  {
   "cell_type": "markdown",
   "metadata": {},
   "source": [
    "# The optimal location for a new shopping center - Report"
   ]
  },
  {
   "cell_type": "markdown",
   "metadata": {},
   "source": [
    "## Table of contents\n",
    "\n",
    "* [Introduction](#Introduction)\n",
    "* [Data](#Data)\n",
    "* [Methodology](#Methodology)\n",
    "* [Results](#Results)\n",
    "* [Discussion](#Discussion)\n",
    "* [Conclusion](#Conclusion)\n"
   ]
  },
  {
   "cell_type": "markdown",
   "metadata": {},
   "source": [
    "# Introduction"
   ]
  },
  {
   "cell_type": "markdown",
   "metadata": {},
   "source": [
    "Milano is a relatively small city (with ~1.4 million inhabitants and a city area of ~182 km<sup>2</sup>), but it is full of small shops and large shopping centers. For this reason, it is not easy to find an area to open new commercial activities. \n",
    "\n",
    "Our target are stakeholders who are interested in establishing a new shopping center in the city. Their interest is obvious: they want to choose a location in which the competition of other shops is not too strong, but at the same time ensuring that enough people will make shopping there. \n",
    "\n",
    "In this project, we want to identify the ideal position for a new mall, considering different factors:\n",
    "\n",
    "* the area for the new shopping center should not have a large number of shops already established\n",
    "* the area should be lively and animated, and already visited by people for other type of venues\n",
    "* the area should be as far as possible from the city center, because in the center of the city it is more difficult to find space for a new commercial activity, and construction costs are much higher\n",
    "\n",
    "We will analyse the possible locations within the city and group the areas according to some indicators and try to identify the area that is best suited for the new shopping center."
   ]
  },
  {
   "cell_type": "markdown",
   "metadata": {},
   "source": [
    "# Data"
   ]
  },
  {
   "cell_type": "markdown",
   "metadata": {},
   "source": [
    "Based on the goal of our analysis, we need the following information:\n",
    "\n",
    "* a measure of the **density and of the diversity of the shops**, that indicates how \"crowded\" the area is in terms of commercial activities;\n",
    "* a measure of the **global number of venues** in the area, regardless of the type of activity; this indicates how lively the area is and how many people are expected to visit the area and hopefully do some shopping there;\n",
    "* the **distance from the city center**, to get an idea on how feasible is to establish a new shopping center, in terms of costs and of available space.\n",
    "\n",
    "In practice, we need a *division of the city in suburbs of a similar size*. For this, we make use of the already existing division based on **postal codes** (in Italian: CAP - \"Codici di avviamento postale\"). The postal codes in Italy are 5-digit numbers, and the codes of Milano are the numbers comprised between 20121 and 20162.\n",
    "\n",
    "To get **geographical coordinates** for each of the postal codes, we use OpenStreetMap, with the **Nominatim API** of the **geopy library**.\n",
    "\n",
    "Using the suburb coordinates identified as described in the above, we then use the **Foursquare API** to get the number of shops, their type, and the number of venues in every neighborhood."
   ]
  },
  {
   "cell_type": "markdown",
   "metadata": {},
   "source": [
    "# Methodology"
   ]
  },
  {
   "cell_type": "markdown",
   "metadata": {},
   "source": [
    "In the previous section we have described how to collect the required data.\n",
    "Once this data is available, we need to process it and extract some numbers that would represent a score for each of the criteria that we have outlined before, that are the basis of our analysis. \n",
    "\n",
    "To compute these indicators, we identify an area with a radius of 1 km around the center of the neighborhood. In this area, we extract from Foursquare information about the venues and compute:\n",
    "* the density of commercial activities, by counting the number of venues that belong to the category \"Shop & Service\"\n",
    "(``4d4b7105d754a06378d81259``);\n",
    "* the diversity of commercial activities, by counting the number of sub-categories of the category \"Shop & Service\" that are present in the area;\n",
    "* the density of venues, by counting the total number of venues\n",
    "\n",
    "The distance of the area from the center is immediate to compute from the latitude and longitude information.\n",
    "\n",
    "The first step of the analysis is a clustering the data based on these four indicators, to indentify the most promising cluster of neighborhoods in terms of low density and diversity of the commercial activities, high total number of venues, largest distance from the center.\n",
    "\n",
    "Then, as a second step, we make a finer analysis on the type of commercial activities present in the area. We take the full list of venues of the category \"Shop & Service\", grouped by the sub-category they belong to. \n",
    "\n",
    "The analysis will be done by clustering the data using k-means clustering, and will help identifying the areas that are worth further explorations for indentifying the best location for the shopping area."
   ]
  },
  {
   "cell_type": "markdown",
   "metadata": {},
   "source": [
    "# Results \n"
   ]
  },
  {
   "cell_type": "markdown",
   "metadata": {},
   "source": []
  },
  {
   "cell_type": "markdown",
   "metadata": {},
   "source": [
    "# Discussion"
   ]
  },
  {
   "cell_type": "markdown",
   "metadata": {},
   "source": []
  },
  {
   "cell_type": "markdown",
   "metadata": {},
   "source": [
    "# Conclusions"
   ]
  },
  {
   "cell_type": "markdown",
   "metadata": {},
   "source": []
  }
 ],
 "metadata": {
  "kernelspec": {
   "display_name": "Python 3",
   "language": "python",
   "name": "python3"
  },
  "language_info": {
   "codemirror_mode": {
    "name": "ipython",
    "version": 3
   },
   "file_extension": ".py",
   "mimetype": "text/x-python",
   "name": "python",
   "nbconvert_exporter": "python",
   "pygments_lexer": "ipython3",
   "version": "3.7.5"
  }
 },
 "nbformat": 4,
 "nbformat_minor": 2
}
